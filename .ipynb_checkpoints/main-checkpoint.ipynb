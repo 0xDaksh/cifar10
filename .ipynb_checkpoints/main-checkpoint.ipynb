{
 "cells": [
  {
   "cell_type": "code",
   "execution_count": 1,
   "metadata": {},
   "outputs": [
    {
     "name": "stderr",
     "output_type": "stream",
     "text": [
      "Using TensorFlow backend.\n"
     ]
    }
   ],
   "source": [
    "from keras.datasets import cifar10\n",
    "from keras.models import Sequential\n",
    "from keras.layers import Dense, Dropout, Flatten, Conv2D, MaxPooling2D\n",
    "import keras\n",
    "from keras.preprocessing.image import ImageDataGenerator"
   ]
  },
  {
   "cell_type": "code",
   "execution_count": 2,
   "metadata": {
    "collapsed": true
   },
   "outputs": [],
   "source": [
    "batch_size = 32\n",
    "num_classes = 10\n",
    "epochs = 40\n",
    "augment = False"
   ]
  },
  {
   "cell_type": "code",
   "execution_count": 3,
   "metadata": {},
   "outputs": [
    {
     "name": "stdout",
     "output_type": "stream",
     "text": [
      "Shape of X is (50000, 32, 32, 3) and Y is (50000, 10)\n"
     ]
    }
   ],
   "source": [
    "(x_train, y_train), (x_test, y_test) = cifar10.load_data()\n",
    "y_train = keras.utils.to_categorical(y_train, num_classes)\n",
    "y_test = keras.utils.to_categorical(y_test, num_classes)\n",
    "print('Shape of X is {} and Y is {}'.format(x_train.shape, y_train.shape))"
   ]
  },
  {
   "cell_type": "code",
   "execution_count": 4,
   "metadata": {
    "collapsed": true
   },
   "outputs": [],
   "source": [
    "model = Sequential([\n",
    "    Conv2D(32, (3, 3), padding='SAME', input_shape=x_train.shape[1:], activation='relu'),\n",
    "    Conv2D(64, (3, 3), activation='relu'),\n",
    "    MaxPooling2D(pool_size=(2, 2)),\n",
    "    Dropout(0.25),\n",
    "    Conv2D(128, (3, 3), activation='relu'),\n",
    "    Conv2D(128, (3, 3), activation='relu'),\n",
    "    MaxPooling2D(pool_size=(2, 2)),\n",
    "    Dropout(0.25),\n",
    "    Flatten(),\n",
    "    Dense(1024, activation='relu'),\n",
    "    Dropout(0.5),\n",
    "    Dense(num_classes, activation='sigmoid')\n",
    "])"
   ]
  },
  {
   "cell_type": "code",
   "execution_count": 5,
   "metadata": {
    "collapsed": true
   },
   "outputs": [],
   "source": [
    "model.compile(optimizer='adam', loss='categorical_crossentropy', metrics=['accuracy'])"
   ]
  },
  {
   "cell_type": "code",
   "execution_count": 6,
   "metadata": {
    "scrolled": true
   },
   "outputs": [
    {
     "name": "stdout",
     "output_type": "stream",
     "text": [
      "_________________________________________________________________\n",
      "Layer (type)                 Output Shape              Param #   \n",
      "=================================================================\n",
      "conv2d_1 (Conv2D)            (None, 32, 32, 32)        896       \n",
      "_________________________________________________________________\n",
      "conv2d_2 (Conv2D)            (None, 30, 30, 64)        18496     \n",
      "_________________________________________________________________\n",
      "max_pooling2d_1 (MaxPooling2 (None, 15, 15, 64)        0         \n",
      "_________________________________________________________________\n",
      "dropout_1 (Dropout)          (None, 15, 15, 64)        0         \n",
      "_________________________________________________________________\n",
      "conv2d_3 (Conv2D)            (None, 13, 13, 128)       73856     \n",
      "_________________________________________________________________\n",
      "conv2d_4 (Conv2D)            (None, 11, 11, 128)       147584    \n",
      "_________________________________________________________________\n",
      "max_pooling2d_2 (MaxPooling2 (None, 5, 5, 128)         0         \n",
      "_________________________________________________________________\n",
      "dropout_2 (Dropout)          (None, 5, 5, 128)         0         \n",
      "_________________________________________________________________\n",
      "flatten_1 (Flatten)          (None, 3200)              0         \n",
      "_________________________________________________________________\n",
      "dense_1 (Dense)              (None, 1024)              3277824   \n",
      "_________________________________________________________________\n",
      "dropout_3 (Dropout)          (None, 1024)              0         \n",
      "_________________________________________________________________\n",
      "dense_2 (Dense)              (None, 10)                10250     \n",
      "=================================================================\n",
      "Total params: 3,528,906\n",
      "Trainable params: 3,528,906\n",
      "Non-trainable params: 0\n",
      "_________________________________________________________________\n"
     ]
    }
   ],
   "source": [
    "model.summary()"
   ]
  },
  {
   "cell_type": "code",
   "execution_count": 7,
   "metadata": {
    "collapsed": true
   },
   "outputs": [],
   "source": [
    "x_train = x_train.astype('float32')\n",
    "x_test = x_test.astype('float32')\n",
    "x_train /= 255\n",
    "x_test /= 255"
   ]
  },
  {
   "cell_type": "code",
   "execution_count": 8,
   "metadata": {},
   "outputs": [
    {
     "name": "stdout",
     "output_type": "stream",
     "text": [
      "Not using data augmentation.\n",
      "Train on 50000 samples, validate on 10000 samples\n",
      "Epoch 1/60\n",
      "50000/50000 [==============================] - 32s - loss: 1.5167 - acc: 0.4468 - val_loss: 1.1966 - val_acc: 0.5650\n",
      "Epoch 2/60\n",
      "50000/50000 [==============================] - 30s - loss: 1.1146 - acc: 0.6050 - val_loss: 0.9458 - val_acc: 0.6686\n",
      "Epoch 3/60\n",
      "50000/50000 [==============================] - 30s - loss: 0.9384 - acc: 0.6712 - val_loss: 0.8162 - val_acc: 0.7155\n",
      "Epoch 4/60\n",
      "50000/50000 [==============================] - 29s - loss: 0.8357 - acc: 0.7068 - val_loss: 0.7863 - val_acc: 0.7267\n",
      "Epoch 5/60\n",
      "50000/50000 [==============================] - 30s - loss: 0.7601 - acc: 0.7360 - val_loss: 0.7278 - val_acc: 0.7487\n",
      "Epoch 6/60\n",
      "50000/50000 [==============================] - 29s - loss: 0.7071 - acc: 0.7523 - val_loss: 0.7095 - val_acc: 0.7552\n",
      "Epoch 7/60\n",
      "50000/50000 [==============================] - 29s - loss: 0.6640 - acc: 0.7675 - val_loss: 0.7360 - val_acc: 0.7548\n",
      "Epoch 8/60\n",
      "50000/50000 [==============================] - 29s - loss: 0.6273 - acc: 0.7815 - val_loss: 0.6801 - val_acc: 0.7731\n",
      "Epoch 9/60\n",
      "50000/50000 [==============================] - 34s - loss: 0.5984 - acc: 0.7930 - val_loss: 0.6681 - val_acc: 0.7743\n",
      "Epoch 10/60\n",
      "50000/50000 [==============================] - 29s - loss: 0.5667 - acc: 0.8029 - val_loss: 0.6676 - val_acc: 0.7792\n",
      "Epoch 11/60\n",
      "50000/50000 [==============================] - 28s - loss: 0.5465 - acc: 0.8097 - val_loss: 0.6687 - val_acc: 0.7730\n",
      "Epoch 12/60\n",
      "50000/50000 [==============================] - 29s - loss: 0.5211 - acc: 0.8184 - val_loss: 0.6500 - val_acc: 0.7820\n",
      "Epoch 13/60\n",
      "50000/50000 [==============================] - 31s - loss: 0.5076 - acc: 0.8224 - val_loss: 0.6644 - val_acc: 0.7794\n",
      "Epoch 14/60\n",
      "50000/50000 [==============================] - 29s - loss: 0.4918 - acc: 0.8299 - val_loss: 0.6705 - val_acc: 0.7821\n",
      "Epoch 15/60\n",
      "50000/50000 [==============================] - 30s - loss: 0.4771 - acc: 0.8346 - val_loss: 0.6653 - val_acc: 0.7795\n",
      "Epoch 16/60\n",
      "50000/50000 [==============================] - 30s - loss: 0.4632 - acc: 0.8392 - val_loss: 0.6842 - val_acc: 0.7852\n",
      "Epoch 17/60\n",
      "50000/50000 [==============================] - 30s - loss: 0.4529 - acc: 0.8445 - val_loss: 0.6647 - val_acc: 0.7916\n",
      "Epoch 18/60\n",
      "50000/50000 [==============================] - 30s - loss: 0.4431 - acc: 0.8477 - val_loss: 0.6587 - val_acc: 0.7943\n",
      "Epoch 19/60\n",
      "50000/50000 [==============================] - 30s - loss: 0.4282 - acc: 0.8531 - val_loss: 0.6778 - val_acc: 0.7881\n",
      "Epoch 20/60\n",
      "50000/50000 [==============================] - 30s - loss: 0.4218 - acc: 0.8563 - val_loss: 0.6424 - val_acc: 0.7965\n",
      "Epoch 21/60\n",
      "50000/50000 [==============================] - 30s - loss: 0.4169 - acc: 0.8552 - val_loss: 0.6918 - val_acc: 0.7917\n",
      "Epoch 22/60\n",
      "50000/50000 [==============================] - 29s - loss: 0.4184 - acc: 0.8564 - val_loss: 0.6837 - val_acc: 0.7935\n",
      "Epoch 23/60\n",
      "50000/50000 [==============================] - 30s - loss: 0.3993 - acc: 0.8646 - val_loss: 0.6986 - val_acc: 0.7917\n",
      "Epoch 24/60\n",
      "50000/50000 [==============================] - 30s - loss: 0.4020 - acc: 0.8646 - val_loss: 0.6841 - val_acc: 0.7936\n",
      "Epoch 25/60\n",
      "50000/50000 [==============================] - 30s - loss: 0.3952 - acc: 0.8665 - val_loss: 0.6860 - val_acc: 0.7867\n",
      "Epoch 26/60\n",
      "50000/50000 [==============================] - 30s - loss: 0.3888 - acc: 0.8674 - val_loss: 0.7295 - val_acc: 0.7913.8\n",
      "Epoch 27/60\n",
      "50000/50000 [==============================] - 30s - loss: 0.3903 - acc: 0.8688 - val_loss: 0.7056 - val_acc: 0.7894\n",
      "Epoch 28/60\n",
      "50000/50000 [==============================] - 30s - loss: 0.3792 - acc: 0.8733 - val_loss: 0.7273 - val_acc: 0.7894\n",
      "Epoch 29/60\n",
      "50000/50000 [==============================] - 29s - loss: 0.3734 - acc: 0.8744 - val_loss: 0.6879 - val_acc: 0.7926\n",
      "Epoch 30/60\n",
      "50000/50000 [==============================] - 30s - loss: 0.3760 - acc: 0.8731 - val_loss: 0.6957 - val_acc: 0.7966\n",
      "Epoch 31/60\n",
      "50000/50000 [==============================] - 30s - loss: 0.3621 - acc: 0.8781 - val_loss: 0.7176 - val_acc: 0.7946\n",
      "Epoch 32/60\n",
      "50000/50000 [==============================] - 30s - loss: 0.3641 - acc: 0.8801 - val_loss: 0.7205 - val_acc: 0.7927\n",
      "Epoch 33/60\n",
      "50000/50000 [==============================] - 30s - loss: 0.3733 - acc: 0.8775 - val_loss: 0.7093 - val_acc: 0.7888\n",
      "Epoch 34/60\n",
      "50000/50000 [==============================] - 30s - loss: 0.3656 - acc: 0.8794 - val_loss: 0.7247 - val_acc: 0.8003\n",
      "Epoch 35/60\n",
      "50000/50000 [==============================] - 30s - loss: 0.3603 - acc: 0.8805 - val_loss: 0.7461 - val_acc: 0.7943\n",
      "Epoch 36/60\n",
      "50000/50000 [==============================] - 30s - loss: 0.3626 - acc: 0.8818 - val_loss: 0.6946 - val_acc: 0.7918\n",
      "Epoch 37/60\n",
      "50000/50000 [==============================] - 30s - loss: 0.3579 - acc: 0.8829 - val_loss: 0.7280 - val_acc: 0.7939\n",
      "Epoch 38/60\n",
      "50000/50000 [==============================] - 30s - loss: 0.3573 - acc: 0.8809 - val_loss: 0.7292 - val_acc: 0.7893\n",
      "Epoch 39/60\n",
      "50000/50000 [==============================] - 30s - loss: 0.3530 - acc: 0.8850 - val_loss: 0.7212 - val_acc: 0.7931\n",
      "Epoch 40/60\n",
      "50000/50000 [==============================] - 30s - loss: 0.3609 - acc: 0.8832 - val_loss: 0.7355 - val_acc: 0.7949\n",
      "Epoch 41/60\n",
      "50000/50000 [==============================] - 30s - loss: 0.3394 - acc: 0.8901 - val_loss: 0.7293 - val_acc: 0.7926\n",
      "Epoch 42/60\n",
      "50000/50000 [==============================] - 29s - loss: 0.3480 - acc: 0.8878 - val_loss: 0.7900 - val_acc: 0.7898\n",
      "Epoch 43/60\n",
      "50000/50000 [==============================] - 29s - loss: 0.1791 - acc: 0.5272 - val_loss: 1.1921e-07 - val_acc: 0.1000\n",
      "Epoch 44/60\n",
      "50000/50000 [==============================] - 29s - loss: 1.1921e-07 - acc: 0.1000 - val_loss: 1.1921e-07 - val_acc: 0.1000\n",
      "Epoch 45/60\n",
      "50000/50000 [==============================] - 30s - loss: 1.1921e-07 - acc: 0.1000 - val_loss: 1.1921e-07 - val_acc: 0.1000\n",
      "Epoch 46/60\n",
      "50000/50000 [==============================] - 30s - loss: 1.1921e-07 - acc: 0.1000 - val_loss: 1.1921e-07 - val_acc: 0.1000\n",
      "Epoch 47/60\n",
      "50000/50000 [==============================] - 29s - loss: 1.1921e-07 - acc: 0.1000 - val_loss: 1.1921e-07 - val_acc: 0.1000\n",
      "Epoch 48/60\n",
      "50000/50000 [==============================] - 30s - loss: 1.1921e-07 - acc: 0.1000 - val_loss: 1.1921e-07 - val_acc: 0.1000\n",
      "Epoch 49/60\n",
      "50000/50000 [==============================] - 30s - loss: 1.1921e-07 - acc: 0.1000 - val_loss: 1.1921e-07 - val_acc: 0.1000\n",
      "Epoch 50/60\n",
      "50000/50000 [==============================] - 29s - loss: 1.1921e-07 - acc: 0.1000 - val_loss: 1.1921e-07 - val_acc: 0.1000\n",
      "Epoch 51/60\n",
      "50000/50000 [==============================] - 30s - loss: 1.1921e-07 - acc: 0.1000 - val_loss: 1.1921e-07 - val_acc: 0.1000\n",
      "Epoch 52/60\n",
      "50000/50000 [==============================] - 31s - loss: 1.1921e-07 - acc: 0.1000 - val_loss: 1.1921e-07 - val_acc: 0.1000\n",
      "Epoch 53/60\n",
      "50000/50000 [==============================] - 29s - loss: 1.1921e-07 - acc: 0.1000 - val_loss: 1.1921e-07 - val_acc: 0.1000\n",
      "Epoch 54/60\n",
      "50000/50000 [==============================] - 30s - loss: 1.1921e-07 - acc: 0.1000 - val_loss: 1.1921e-07 - val_acc: 0.1000\n",
      "Epoch 55/60\n",
      "50000/50000 [==============================] - 29s - loss: 1.1921e-07 - acc: 0.1000 - val_loss: 1.1921e-07 - val_acc: 0.1000\n",
      "Epoch 56/60\n",
      "50000/50000 [==============================] - 30s - loss: 1.1921e-07 - acc: 0.1000 - val_loss: 1.1921e-07 - val_acc: 0.1000\n",
      "Epoch 57/60\n",
      "50000/50000 [==============================] - 30s - loss: 1.1921e-07 - acc: 0.1000 - val_loss: 1.1921e-07 - val_acc: 0.1000\n",
      "Epoch 58/60\n",
      "50000/50000 [==============================] - 30s - loss: 1.1921e-07 - acc: 0.1000 - val_loss: 1.1921e-07 - val_acc: 0.1000\n",
      "Epoch 59/60\n",
      "50000/50000 [==============================] - 30s - loss: 1.1921e-07 - acc: 0.1000 - val_loss: 1.1921e-07 - val_acc: 0.1000\n",
      "Epoch 60/60\n",
      "50000/50000 [==============================] - 30s - loss: 1.1921e-07 - acc: 0.1000 - val_loss: 1.1921e-07 - val_acc: 0.1000\n"
     ]
    }
   ],
   "source": [
    "if not augment:\n",
    "    print('Not using data augmentation.')\n",
    "    model.fit(x_train, y_train,\n",
    "              batch_size=batch_size,\n",
    "              epochs=epochs,\n",
    "              validation_data=(x_test, y_test),\n",
    "              shuffle=True)\n",
    "else:\n",
    "    print('Using real-time data augmentation.')\n",
    "    # This will do preprocessing and realtime data augmentation:\n",
    "    datagen = ImageDataGenerator(\n",
    "        featurewise_center=False,  # set input mean to 0 over the dataset\n",
    "        samplewise_center=False,  # set each sample mean to 0\n",
    "        featurewise_std_normalization=False,  # divide inputs by std of the dataset\n",
    "        samplewise_std_normalization=False,  # divide each input by its std\n",
    "        zca_whitening=False,  # apply ZCA whitening\n",
    "        rotation_range=0,  # randomly rotate images in the range (degrees, 0 to 180)\n",
    "        width_shift_range=0.1,  # randomly shift images horizontally (fraction of total width)\n",
    "        height_shift_range=0.1,  # randomly shift images vertically (fraction of total height)\n",
    "        horizontal_flip=False,  # randomly flip images\n",
    "        vertical_flip=False)  # randomly flip images\n",
    "    datagen.fit(x_train)\n",
    "    model.fit_generator(datagen.flow(x_train, y_train, \n",
    "                        batch_size=batch_size), steps_per_epoch=x_train.shape[0],\n",
    "                        epochs=epochs,\n",
    "                        validation_data=(x_test, y_test))"
   ]
  },
  {
   "cell_type": "code",
   "execution_count": 18,
   "metadata": {},
   "outputs": [
    {
     "name": "stdout",
     "output_type": "stream",
     "text": [
      "10000/10000 [==============================] - 1s     \n",
      "10.0\n"
     ]
    }
   ],
   "source": [
    "score = model.evaluate(x_test, y_test, batch_size=32)\n",
    "print(score[1]*100)"
   ]
  },
  {
   "cell_type": "code",
   "execution_count": null,
   "metadata": {
    "collapsed": true
   },
   "outputs": [],
   "source": [
    "model.save_weights('weights.h5')"
   ]
  }
 ],
 "metadata": {
  "kernelspec": {
   "display_name": "Python 3",
   "language": "python",
   "name": "python3"
  },
  "language_info": {
   "codemirror_mode": {
    "name": "ipython",
    "version": 3
   },
   "file_extension": ".py",
   "mimetype": "text/x-python",
   "name": "python",
   "nbconvert_exporter": "python",
   "pygments_lexer": "ipython3",
   "version": "3.5.2"
  }
 },
 "nbformat": 4,
 "nbformat_minor": 2
}
